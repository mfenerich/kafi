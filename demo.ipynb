{
 "cells": [
  {
   "cell_type": "code",
   "execution_count": null,
   "metadata": {},
   "outputs": [],
   "source": [
    "# Look up the scraped.parquet file on S3"
   ]
  },
  {
   "cell_type": "code",
   "execution_count": 16,
   "metadata": {},
   "outputs": [
    {
     "data": {
      "text/plain": [
       "1000"
      ]
     },
     "execution_count": 16,
     "metadata": {},
     "output_type": "execute_result"
    }
   ],
   "source": [
    "# Get scraped.parquet from S3 and write it to Kafka using the REST Proxy.\n",
    "from kafi.kafi import *\n",
    "s = S3(\"local\")\n",
    "r = RestProxy(\"local\")\n",
    "r.retouch(\"scraped_json\")\n",
    "r.from_file(s, \"scraped.parquet\", \"scraped_json\")\n"
   ]
  },
  {
   "cell_type": "code",
   "execution_count": 17,
   "metadata": {},
   "outputs": [
    {
     "data": {
      "text/plain": [
       "([{'topic': 'scraped_json',\n",
       "   'headers': None,\n",
       "   'partition': 0,\n",
       "   'offset': 0,\n",
       "   'timestamp': (1, 1695597714162),\n",
       "   'key': None,\n",
       "   'value': {'datetime': '2022-11-28 10:49:02+00:00',\n",
       "    'text': '💨爆速レス営業中💨\\nフォロー&amp;🈯️＝500🈹\\n\\n✨Acapulco Gold✨〔人気〕\\n🍭Rainbow Candy🍭\\n 1個6000 3個5500\\n\\n【極密】\\n🍯Hulk Berry🍯1.2㎜\\n1/12000 3/11000\\n\\n質・匂い💯\\n配達⭕️即対応⭕\\n️🈯️→堺📍\\n📲テレ→ https://t.co/cM4OM8u7jo\\n\\n大阪手押し 堺手押し\\nミナミ手押し  野菜手押し',\n",
       "    'source': {'id': '1597180760364298241',\n",
       "     'name': 'twitter',\n",
       "     'user': 'Kansaiwa2525'}}}],\n",
       " 1)"
      ]
     },
     "execution_count": 17,
     "metadata": {},
     "output_type": "execute_result"
    }
   ],
   "source": [
    "# Check...\n",
    "# Print out the first message\n",
    "from kafi.kafi import *\n",
    "c = Cluster(\"local\")\n",
    "c.head(\"scraped_json\", 1)"
   ]
  },
  {
   "cell_type": "code",
   "execution_count": 18,
   "metadata": {},
   "outputs": [
    {
     "name": "stdout",
     "output_type": "stream",
     "text": [
      "Written: 1000\n",
      "Read: 1000\n"
     ]
    },
    {
     "data": {
      "text/plain": [
       "(1000, 1000)"
      ]
     },
     "execution_count": 18,
     "metadata": {},
     "output_type": "execute_result"
    }
   ],
   "source": [
    "# Get the Kafka topic and carbon-copy it to local disk.\n",
    "from kafi.kafi import *\n",
    "c = Cluster(\"local\")\n",
    "l = Local(\"local\")\n",
    "l.retouch(\"scraped_json\")\n",
    "c.cp(\"scraped_json\", l, \"scraped_json\")\n"
   ]
  },
  {
   "cell_type": "code",
   "execution_count": null,
   "metadata": {},
   "outputs": [],
   "source": [
    "# replace \"name\": \"twitter\" with \"name\": \"x\" on local disk"
   ]
  },
  {
   "cell_type": "code",
   "execution_count": 19,
   "metadata": {},
   "outputs": [
    {
     "name": "stdout",
     "output_type": "stream",
     "text": [
      "Written: 1000\n",
      "Read: 1000\n"
     ]
    },
    {
     "data": {
      "text/plain": [
       "(1000, 1000)"
      ]
     },
     "execution_count": 19,
     "metadata": {},
     "output_type": "execute_result"
    }
   ],
   "source": [
    "# Write back the changed topic to Kafka.\n",
    "from kafi.kafi import *\n",
    "l = Local(\"local\")\n",
    "c = Cluster(\"local\")\n",
    "c.retouch(\"scraped_json\")\n",
    "l.cp(\"scraped_json\", c, \"scraped_json\")\n"
   ]
  },
  {
   "cell_type": "code",
   "execution_count": 20,
   "metadata": {},
   "outputs": [
    {
     "data": {
      "text/plain": [
       "([{'topic': 'scraped_json',\n",
       "   'headers': None,\n",
       "   'partition': 0,\n",
       "   'offset': 0,\n",
       "   'timestamp': (1, 1695597892820),\n",
       "   'key': None,\n",
       "   'value': {'datetime': '2022-11-28 10:49:02+00:00',\n",
       "    'text': '💨爆速レス営業中💨\\nフォロー&amp;🈯️＝500🈹\\n\\n✨Acapulco Gold✨〔人気〕\\n🍭Rainbow Candy🍭\\n 1個6000 3個5500\\n\\n【極密】\\n🍯Hulk Berry🍯1.2㎜\\n1/12000 3/11000\\n\\n質・匂い💯\\n配達⭕️即対応⭕\\n️🈯️→堺📍\\n📲テレ→ https://t.co/cM4OM8u7jo\\n\\n大阪手押し 堺手押し\\nミナミ手押し  野菜手押し',\n",
       "    'source': {'id': '1597180760364298241',\n",
       "     'name': 'x',\n",
       "     'user': 'Kansaiwa2525'}}}],\n",
       " 1)"
      ]
     },
     "execution_count": 20,
     "metadata": {},
     "output_type": "execute_result"
    }
   ],
   "source": [
    "# Print out the first message\n",
    "from kafi.kafi import *\n",
    "c = Cluster(\"local\")\n",
    "c.head(\"scraped_json\", 1)\n"
   ]
  },
  {
   "cell_type": "code",
   "execution_count": 24,
   "metadata": {},
   "outputs": [
    {
     "data": {
      "text/plain": [
       "{'__consumer_offsets': 890,\n",
       " '_schemas': 74,\n",
       " 'scored_protobuf': 374,\n",
       " 'scraped_json': 1000}"
      ]
     },
     "execution_count": 24,
     "metadata": {},
     "output_type": "execute_result"
    }
   ],
   "source": [
    "# Print out the topics and their sizes\n",
    "from kafi.kafi import *\n",
    "c = Cluster(\"local\")\n",
    "c.l()\n"
   ]
  },
  {
   "cell_type": "code",
   "execution_count": 27,
   "metadata": {},
   "outputs": [
    {
     "name": "stderr",
     "output_type": "stream",
     "text": [
      "/home/ralph/kafka/kafi/venv/lib/python3.10/site-packages/confluent_kafka/schema_registry/protobuf.py:513: UserWarning: MessageFactory class is deprecated. Please use GetMessageClass() instead of MessageFactory.GetPrototype. MessageFactory class will be removed after 2024.\n",
      "  self._msg_class = MessageFactory().GetPrototype(descriptor)\n",
      "W0000 00:00:1695598521.053753   70948 parser.cc:676] No syntax specified for the proto file: schema_2.proto. Please use 'syntax = \"proto2\";' or 'syntax = \"proto3\";' to specify a syntax version. (Defaulted to proto2 syntax.)\n"
     ]
    },
    {
     "data": {
      "text/plain": [
       "50"
      ]
     },
     "execution_count": 27,
     "metadata": {},
     "output_type": "execute_result"
    }
   ],
   "source": [
    "# Write the scored topic to Azure Blob Storage (as Excel)\n",
    "from kafi.kafi import *\n",
    "c = Cluster(\"local\")\n",
    "a = AzureBlob(\"local\")\n",
    "c.to_file(\"scored_protobuf\", a, \"scored.xlsx\", value_type=\"protobuf\", n=50)\n"
   ]
  }
 ],
 "metadata": {
  "kernelspec": {
   "display_name": "venv",
   "language": "python",
   "name": "python3"
  },
  "language_info": {
   "codemirror_mode": {
    "name": "ipython",
    "version": 3
   },
   "file_extension": ".py",
   "mimetype": "text/x-python",
   "name": "python",
   "nbconvert_exporter": "python",
   "pygments_lexer": "ipython3",
   "version": "3.10.12"
  },
  "orig_nbformat": 4
 },
 "nbformat": 4,
 "nbformat_minor": 2
}
