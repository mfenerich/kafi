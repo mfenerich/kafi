{
 "cells": [
  {
   "cell_type": "code",
   "execution_count": 39,
   "metadata": {},
   "outputs": [],
   "source": [
    "# Reset\n",
    "from kafi.kafi import *\n",
    "c = Cluster(\"local\")\n",
    "c.rm(\"scraped_json\")\n",
    "c.rm(\"scored_protobuf\")\n",
    "#\n",
    "l = Local(\"local\")\n",
    "l.rm(\"scraped_json\")\n",
    "#\n",
    "a = AzureBlob(\"local\")\n",
    "a.admin.delete_file(a.admin.get_file_abs_path_str(\"scored.xlsx\"))\n"
   ]
  },
  {
   "cell_type": "code",
   "execution_count": null,
   "metadata": {},
   "outputs": [],
   "source": [
    "# Look up the scraped.parquet file on S3"
   ]
  },
  {
   "cell_type": "code",
   "execution_count": 40,
   "metadata": {},
   "outputs": [
    {
     "data": {
      "text/plain": [
       "1000"
      ]
     },
     "execution_count": 40,
     "metadata": {},
     "output_type": "execute_result"
    }
   ],
   "source": [
    "# Get scraped.parquet from S3 and write it to Kafka using the REST Proxy.\n",
    "s = S3(\"local\")\n",
    "r = RestProxy(\"local\")\n",
    "r.from_file(s, \"scraped.parquet\", \"scraped_json\")\n"
   ]
  },
  {
   "cell_type": "code",
   "execution_count": null,
   "metadata": {},
   "outputs": [],
   "source": [
    "# check the messages in Control Center"
   ]
  },
  {
   "cell_type": "code",
   "execution_count": 41,
   "metadata": {},
   "outputs": [
    {
     "name": "stdout",
     "output_type": "stream",
     "text": [
      "Written: 1000\n",
      "Read: 1000\n"
     ]
    },
    {
     "data": {
      "text/plain": [
       "(1000, 1000)"
      ]
     },
     "execution_count": 41,
     "metadata": {},
     "output_type": "execute_result"
    }
   ],
   "source": [
    "# Get the Kafka topic and carbon-copy it to local disk.\n",
    "c = Cluster(\"local\")\n",
    "l = Local(\"local\")\n",
    "c.cp(\"scraped_json\", l, \"scraped_json\")\n"
   ]
  },
  {
   "cell_type": "code",
   "execution_count": null,
   "metadata": {},
   "outputs": [],
   "source": [
    "# replace \"name\": \"twitter\" with \"name\": \"x\" on local disk"
   ]
  },
  {
   "cell_type": "code",
   "execution_count": 42,
   "metadata": {},
   "outputs": [
    {
     "name": "stdout",
     "output_type": "stream",
     "text": [
      "Written: 1000\n",
      "Read: 1000\n"
     ]
    },
    {
     "data": {
      "text/plain": [
       "(1000, 1000)"
      ]
     },
     "execution_count": 42,
     "metadata": {},
     "output_type": "execute_result"
    }
   ],
   "source": [
    "# Write back the changed topic to Kafka.\n",
    "l = Local(\"local\")\n",
    "c = Cluster(\"local\")\n",
    "c.retouch(\"scraped_json\")\n",
    "l.cp(\"scraped_json\", c, \"scraped_json\")\n"
   ]
  },
  {
   "cell_type": "code",
   "execution_count": null,
   "metadata": {},
   "outputs": [],
   "source": [
    "# check the fixed messages in Control Center"
   ]
  },
  {
   "cell_type": "code",
   "execution_count": null,
   "metadata": {},
   "outputs": [],
   "source": [
    "# check the scored messages in Control Center"
   ]
  },
  {
   "cell_type": "code",
   "execution_count": 43,
   "metadata": {},
   "outputs": [
    {
     "name": "stderr",
     "output_type": "stream",
     "text": [
      "/home/ralph/kafka/kafi/venv/lib/python3.10/site-packages/confluent_kafka/schema_registry/protobuf.py:513: UserWarning: MessageFactory class is deprecated. Please use GetMessageClass() instead of MessageFactory.GetPrototype. MessageFactory class will be removed after 2024.\n",
      "  self._msg_class = MessageFactory().GetPrototype(descriptor)\n",
      "W0000 00:00:1697045784.485173   12507 parser.cc:676] No syntax specified for the proto file: schema_2.proto. Please use 'syntax = \"proto2\";' or 'syntax = \"proto3\";' to specify a syntax version. (Defaulted to proto2 syntax.)\n"
     ]
    },
    {
     "data": {
      "text/plain": [
       "20"
      ]
     },
     "execution_count": 43,
     "metadata": {},
     "output_type": "execute_result"
    }
   ],
   "source": [
    "# Write the scored topic to Azure Blob Storage (as Excel)\n",
    "c = Cluster(\"local\")\n",
    "a = AzureBlob(\"local\")\n",
    "c.to_file(\"scored_protobuf\", a, \"scored.xlsx\", value_type=\"protobuf\", n=20)\n"
   ]
  },
  {
   "cell_type": "code",
   "execution_count": 44,
   "metadata": {},
   "outputs": [
    {
     "name": "stdout",
     "output_type": "stream",
     "text": [
      "                    datetime  \\\n",
      "0  2022-11-28 10:49:02+00:00   \n",
      "1  2022-11-28 10:49:01+00:00   \n",
      "2  2022-11-28 10:49:03+00:00   \n",
      "\n",
      "                                                text  \\\n",
      "0  💨爆速レス営業中💨\\nフォロー&amp;🈯️＝500🈹\\n\\n✨Acapulco Gold✨...   \n",
      "1  OdontoMed2011 Jennings Mouth Gag 4 5\" Dental A...   \n",
      "2  A good head and an industrious hand are  u p #...   \n",
      "\n",
      "                                              source  \\\n",
      "0  {'name': 'x', 'id': '1597180760364298241', 'us...   \n",
      "1  {'name': 'x', 'id': '1597180759726764034', 'us...   \n",
      "2  {'name': 'x', 'id': '1597180764902158336', 'us...   \n",
      "\n",
      "                           sentiment  \n",
      "0  {'model': 'finbert', 'score': 41}  \n",
      "1  {'model': 'finbert', 'score': 42}  \n",
      "2  {'model': 'finbert', 'score': 43}  \n"
     ]
    },
    {
     "name": "stderr",
     "output_type": "stream",
     "text": [
      "/home/ralph/kafka/kafi/venv/lib/python3.10/site-packages/confluent_kafka/schema_registry/protobuf.py:513: UserWarning: MessageFactory class is deprecated. Please use GetMessageClass() instead of MessageFactory.GetPrototype. MessageFactory class will be removed after 2024.\n",
      "  self._msg_class = MessageFactory().GetPrototype(descriptor)\n",
      "W0000 00:00:1697045861.703422   12507 parser.cc:676] No syntax specified for the proto file: schema_2.proto. Please use 'syntax = \"proto2\";' or 'syntax = \"proto3\";' to specify a syntax version. (Defaulted to proto2 syntax.)\n"
     ]
    }
   ],
   "source": [
    "# Show off Pandas support\n",
    "c = Cluster(\"local\")\n",
    "df = c.to_df(\"scored_protobuf\", value_type=\"protobuf\", n=20)\n",
    "print(df.loc[0:2])\n"
   ]
  }
 ],
 "metadata": {
  "kernelspec": {
   "display_name": "venv",
   "language": "python",
   "name": "python3"
  },
  "language_info": {
   "codemirror_mode": {
    "name": "ipython",
    "version": 3
   },
   "file_extension": ".py",
   "mimetype": "text/x-python",
   "name": "python",
   "nbconvert_exporter": "python",
   "pygments_lexer": "ipython3",
   "version": "3.10.12"
  },
  "orig_nbformat": 4
 },
 "nbformat": 4,
 "nbformat_minor": 2
}
