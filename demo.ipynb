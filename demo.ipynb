{
 "cells": [
  {
   "cell_type": "code",
   "execution_count": 30,
   "metadata": {},
   "outputs": [],
   "source": [
    "# Reset\n",
    "from kafi.kafi import *\n",
    "c = Cluster(\"local\")\n",
    "c.rm(\"scraped_json\")\n",
    "c.rm(\"scored_protobuf\")\n",
    "#\n",
    "l = Local(\"local\")\n",
    "l.rm(\"scraped_json\")\n",
    "#\n",
    "a = AzureBlob(\"local\")\n",
    "a.admin.delete_file(a.admin.get_file_abs_path_str(\"scored.xlsx\"))\n",
    "\n"
   ]
  },
  {
   "cell_type": "code",
   "execution_count": null,
   "metadata": {},
   "outputs": [],
   "source": [
    "# Look up the scraped.parquet file on S3"
   ]
  },
  {
   "cell_type": "code",
   "execution_count": null,
   "metadata": {},
   "outputs": [],
   "source": [
    "# Get scraped.parquet from S3 and write it to Kafka using the REST Proxy.\n",
    "s = S3(\"local\")\n",
    "r = RestProxy(\"local\")\n",
    "r.from_file(s, \"scraped.parquet\", \"scraped_json\")\n"
   ]
  },
  {
   "cell_type": "code",
   "execution_count": null,
   "metadata": {},
   "outputs": [],
   "source": [
    "# Check...\n",
    "# Print out the first message\n",
    "c = Cluster(\"local\")\n",
    "c.cat(\"scraped_json\", 1)"
   ]
  },
  {
   "cell_type": "code",
   "execution_count": null,
   "metadata": {},
   "outputs": [],
   "source": [
    "# Get the Kafka topic and carbon-copy it to local disk.\n",
    "c = Cluster(\"local\")\n",
    "l = Local(\"local\")\n",
    "c.cp(\"scraped_json\", l, \"scraped_json\")\n"
   ]
  },
  {
   "cell_type": "code",
   "execution_count": null,
   "metadata": {},
   "outputs": [],
   "source": [
    "# replace \"name\": \"twitter\" with \"name\": \"x\" on local disk"
   ]
  },
  {
   "cell_type": "code",
   "execution_count": null,
   "metadata": {},
   "outputs": [],
   "source": [
    "# Write back the changed topic to Kafka.\n",
    "l = Local(\"local\")\n",
    "c = Cluster(\"local\")\n",
    "c.retouch(\"scraped_json\")\n",
    "l.cp(\"scraped_json\", c, \"scraped_json\")\n"
   ]
  },
  {
   "cell_type": "code",
   "execution_count": null,
   "metadata": {},
   "outputs": [],
   "source": [
    "# Print out the first message\n",
    "c = Cluster(\"local\")\n",
    "c.cat(\"scraped_json\", 1)\n"
   ]
  },
  {
   "cell_type": "code",
   "execution_count": null,
   "metadata": {},
   "outputs": [],
   "source": [
    "# Print out the topics and their sizes\n",
    "c = Cluster(\"local\")\n",
    "c.l()\n"
   ]
  },
  {
   "cell_type": "code",
   "execution_count": null,
   "metadata": {},
   "outputs": [],
   "source": [
    "# Write the scored topic to Azure Blob Storage (as Excel)\n",
    "c = Cluster(\"local\")\n",
    "a = AzureBlob(\"local\")\n",
    "c.to_file(\"scored_protobuf\", a, \"scored.xlsx\", value_type=\"protobuf\", n=20)\n"
   ]
  }
 ],
 "metadata": {
  "kernelspec": {
   "display_name": "venv",
   "language": "python",
   "name": "python3"
  },
  "language_info": {
   "codemirror_mode": {
    "name": "ipython",
    "version": 3
   },
   "file_extension": ".py",
   "mimetype": "text/x-python",
   "name": "python",
   "nbconvert_exporter": "python",
   "pygments_lexer": "ipython3",
   "version": "3.10.12"
  },
  "orig_nbformat": 4
 },
 "nbformat": 4,
 "nbformat_minor": 2
}
